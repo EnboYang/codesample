{
 "metadata": {
  "name": ""
 },
 "nbformat": 3,
 "nbformat_minor": 0,
 "worksheets": [
  {
   "cells": [
    {
     "cell_type": "code",
     "collapsed": false,
     "input": [
      "%reset"
     ],
     "language": "python",
     "metadata": {},
     "outputs": []
    },
    {
     "cell_type": "code",
     "collapsed": false,
     "input": [
      "%pylab qt4"
     ],
     "language": "python",
     "metadata": {},
<<<<<<< HEAD
     "outputs": [
      {
       "output_type": "stream",
       "stream": "stdout",
       "text": [
        "Populating the interactive namespace from numpy and matplotlib\n"
       ]
      }
     ],
     "prompt_number": 13
=======
     "outputs": []
>>>>>>> 5dd76770d90d39773df2ea144e8f41badd2660ef
    },
    {
     "cell_type": "heading",
     "level": 1,
     "metadata": {},
     "source": [
      "Test Notebook"
     ]
    },
    {
     "cell_type": "heading",
     "level": 2,
     "metadata": {},
     "source": [
      "Module Prepare"
     ]
    },
    {
     "cell_type": "code",
     "collapsed": false,
     "input": [
      "\n",
      "import  numpy as np\n",
      "\n",
      "import  pylab as pl\n",
      "import  matplotlib.pyplot as plt\n",
      "import matplotlib.cm as cm\n",
      "from mpl_toolkits.mplot3d import Axes3D\n",
      "\n",
      "from scipy import io as spio\n",
<<<<<<< HEAD
      "from scipy import fftpack\n",
      "from scipy import optimize\n",
=======
>>>>>>> 5dd76770d90d39773df2ea144e8f41badd2660ef
      "\n",
      "import  astropy.io.fits as pyfits\n",
      "\n"
     ],
     "language": "python",
     "metadata": {},
     "outputs": [],
<<<<<<< HEAD
     "prompt_number": 44
=======
     "prompt_number": 69
>>>>>>> 5dd76770d90d39773df2ea144e8f41badd2660ef
    },
    {
     "cell_type": "heading",
     "level": 2,
     "metadata": {},
     "source": [
      "Test Part"
     ]
    },
    {
     "cell_type": "code",
     "collapsed": false,
     "input": [
<<<<<<< HEAD
      "time_step=0.02\n",
      "period=5.\n",
      "time_vec=np.arange(0,20,time_step)\n",
      "sig=np.sin(2 * np.pi / period * time_vec) + 0.5 * np.random.randn(time_vec.size)"
     ],
     "language": "python",
     "metadata": {},
     "outputs": [],
     "prompt_number": 19
    },
    {
     "cell_type": "code",
     "collapsed": false,
     "input": [
      "sample_freq=fftpack.fftfreq(sig.size,d=time_step)\n",
      "sig_fft=fftpack.fft(sig)"
     ],
     "language": "python",
     "metadata": {},
     "outputs": [],
     "prompt_number": 20
    },
    {
     "cell_type": "code",
     "collapsed": false,
     "input": [
      "pidx=np.where(sample_freq>0)\n",
      "freqs=sample_freq[pidx]"
=======
      "a=np.ones((3,3))"
>>>>>>> 5dd76770d90d39773df2ea144e8f41badd2660ef
     ],
     "language": "python",
     "metadata": {},
     "outputs": [],
<<<<<<< HEAD
     "prompt_number": 21
=======
     "prompt_number": 70
>>>>>>> 5dd76770d90d39773df2ea144e8f41badd2660ef
    },
    {
     "cell_type": "code",
     "collapsed": false,
     "input": [
<<<<<<< HEAD
      "power=np.abs(sig_fft)[pidx]\n",
      "freq=freqs[power.argmax()]"
=======
      "spio.savemat('file.mat',{'a':a})"
>>>>>>> 5dd76770d90d39773df2ea144e8f41badd2660ef
     ],
     "language": "python",
     "metadata": {},
     "outputs": [],
<<<<<<< HEAD
     "prompt_number": 22
=======
     "prompt_number": 72
>>>>>>> 5dd76770d90d39773df2ea144e8f41badd2660ef
    },
    {
     "cell_type": "code",
     "collapsed": false,
     "input": [
<<<<<<< HEAD
      "pl.figure()\n",
      "pl.plot(freqs,power)"
=======
      "ls"
>>>>>>> 5dd76770d90d39773df2ea144e8f41badd2660ef
     ],
     "language": "python",
     "metadata": {},
     "outputs": [
      {
<<<<<<< HEAD
       "metadata": {},
       "output_type": "pyout",
       "prompt_number": 23,
       "text": [
        "[<matplotlib.lines.Line2D at 0x7f16b5770510>]"
       ]
      }
     ],
     "prompt_number": 23
=======
       "output_type": "stream",
       "stream": "stdout",
       "text": [
        "codetest.ipynb  LICENSE          README.md\r\n",
        "file.mat        pylab~sample.py\r\n"
       ]
      }
     ],
     "prompt_number": 73
>>>>>>> 5dd76770d90d39773df2ea144e8f41badd2660ef
    },
    {
     "cell_type": "code",
     "collapsed": false,
     "input": [
<<<<<<< HEAD
      "pl.show()"
=======
      "!gvim file.mat"
>>>>>>> 5dd76770d90d39773df2ea144e8f41badd2660ef
     ],
     "language": "python",
     "metadata": {},
     "outputs": [],
<<<<<<< HEAD
     "prompt_number": 10
=======
     "prompt_number": 76
>>>>>>> 5dd76770d90d39773df2ea144e8f41badd2660ef
    },
    {
     "cell_type": "code",
     "collapsed": false,
     "input": [
<<<<<<< HEAD
      "pl.close(1)"
=======
      "data=spio.loadmat('file.mat',struct_as_record=True)"
>>>>>>> 5dd76770d90d39773df2ea144e8f41badd2660ef
     ],
     "language": "python",
     "metadata": {},
     "outputs": [],
<<<<<<< HEAD
     "prompt_number": 41
=======
     "prompt_number": 81
>>>>>>> 5dd76770d90d39773df2ea144e8f41badd2660ef
    },
    {
     "cell_type": "code",
     "collapsed": false,
     "input": [
<<<<<<< HEAD
      "pl.xlabel('Frequency[Hz]')\n",
      "pl.ylabel('power')\n"
=======
      "data['a']"
>>>>>>> 5dd76770d90d39773df2ea144e8f41badd2660ef
     ],
     "language": "python",
     "metadata": {},
     "outputs": [
      {
       "metadata": {},
       "output_type": "pyout",
<<<<<<< HEAD
       "prompt_number": 34,
       "text": [
        "<matplotlib.text.Text at 0x7f16b57fa410>"
       ]
      }
     ],
     "prompt_number": 34
=======
       "prompt_number": 83,
       "text": [
        "array([[ 1.,  1.,  1.],\n",
        "       [ 1.,  1.,  1.],\n",
        "       [ 1.,  1.,  1.]])"
       ]
      }
     ],
     "prompt_number": 83
>>>>>>> 5dd76770d90d39773df2ea144e8f41badd2660ef
    },
    {
     "cell_type": "code",
     "collapsed": false,
     "input": [
<<<<<<< HEAD
      "axes=pl.axes([0.3,0.3,0.5,0.5])"
     ],
     "language": "python",
     "metadata": {},
     "outputs": [],
     "prompt_number": 25
    },
    {
     "cell_type": "code",
     "collapsed": false,
     "input": [
      "pl.title('Peak frequency')"
=======
      "a"
>>>>>>> 5dd76770d90d39773df2ea144e8f41badd2660ef
     ],
     "language": "python",
     "metadata": {},
     "outputs": [
      {
       "metadata": {},
       "output_type": "pyout",
<<<<<<< HEAD
       "prompt_number": 26,
       "text": [
        "<matplotlib.text.Text at 0x7f16b56cbb50>"
       ]
      }
     ],
     "prompt_number": 26
=======
       "prompt_number": 84,
       "text": [
        "array([[ 1.,  1.,  1.],\n",
        "       [ 1.,  1.,  1.],\n",
        "       [ 1.,  1.,  1.]])"
       ]
      }
     ],
     "prompt_number": 84
>>>>>>> 5dd76770d90d39773df2ea144e8f41badd2660ef
    },
    {
     "cell_type": "code",
     "collapsed": false,
     "input": [
<<<<<<< HEAD
      "pl.plot(freqs[:8],power[:8])\n",
      "pl.setp(axes,yticks=[])"
=======
      "a.dtype"
>>>>>>> 5dd76770d90d39773df2ea144e8f41badd2660ef
     ],
     "language": "python",
     "metadata": {},
     "outputs": [
      {
       "metadata": {},
       "output_type": "pyout",
<<<<<<< HEAD
       "prompt_number": 28,
       "text": [
        "[]"
       ]
      }
     ],
     "prompt_number": 28
=======
       "prompt_number": 85,
       "text": [
        "dtype('float64')"
       ]
      }
     ],
     "prompt_number": 85
>>>>>>> 5dd76770d90d39773df2ea144e8f41badd2660ef
    },
    {
     "cell_type": "code",
     "collapsed": false,
     "input": [
<<<<<<< HEAD
      "pl.xlim([0,1])"
     ],
     "language": "python",
     "metadata": {},
     "outputs": [
      {
       "metadata": {},
       "output_type": "pyout",
       "prompt_number": 30,
       "text": [
        "(0, 1)"
       ]
      }
     ],
     "prompt_number": 30
    },
    {
     "cell_type": "code",
     "collapsed": false,
     "input": [
      "axes."
     ],
     "language": "python",
     "metadata": {},
     "outputs": [
      {
       "ename": "AttributeError",
       "evalue": "'Axes' object has no attribute 'close'",
       "output_type": "pyerr",
       "traceback": [
        "\u001b[0;31m---------------------------------------------------------------------------\u001b[0m\n\u001b[0;31mAttributeError\u001b[0m                            Traceback (most recent call last)",
        "\u001b[0;32m<ipython-input-31-82895c55c443>\u001b[0m in \u001b[0;36m<module>\u001b[0;34m()\u001b[0m\n\u001b[0;32m----> 1\u001b[0;31m \u001b[0maxes\u001b[0m\u001b[0;34m.\u001b[0m\u001b[0mclose\u001b[0m\u001b[0;34m(\u001b[0m\u001b[0;34m)\u001b[0m\u001b[0;34m\u001b[0m\u001b[0m\n\u001b[0m",
        "\u001b[0;31mAttributeError\u001b[0m: 'Axes' object has no attribute 'close'"
       ]
      }
     ],
     "prompt_number": 31
    },
    {
     "cell_type": "code",
     "collapsed": false,
     "input": [
      "freq = freqs[power.argmax()]"
     ],
     "language": "python",
     "metadata": {},
     "outputs": [],
     "prompt_number": 42
    },
    {
     "cell_type": "code",
     "collapsed": false,
     "input": [
      "np.allclose(freq,1./period)"
     ],
     "language": "python",
     "metadata": {},
     "outputs": [
      {
       "metadata": {},
       "output_type": "pyout",
       "prompt_number": 43,
       "text": [
        "True"
       ]
      }
     ],
     "prompt_number": 43
    },
    {
     "cell_type": "code",
     "collapsed": false,
     "input": [
      "def f(x):\n",
      "    return x**2+10*np.sin(x)\n",
      "x=np.arange(-10,10,0.1)\n",
      "pl.plot(x,f(x))"
     ],
     "language": "python",
     "metadata": {},
     "outputs": [
      {
       "metadata": {},
       "output_type": "pyout",
       "prompt_number": 46,
       "text": [
        "[<matplotlib.lines.Line2D at 0x7f16b5660310>]"
       ]
      }
     ],
     "prompt_number": 46
    },
    {
     "cell_type": "code",
     "collapsed": false,
     "input": [
      "optimize.fmin_bfgs(f,0)"
=======
      "ls"
>>>>>>> 5dd76770d90d39773df2ea144e8f41badd2660ef
     ],
     "language": "python",
     "metadata": {},
     "outputs": [
      {
       "output_type": "stream",
       "stream": "stdout",
       "text": [
<<<<<<< HEAD
        "Optimization terminated successfully.\n",
        "         Current function value: -7.945823\n",
        "         Iterations: 5\n",
        "         Function evaluations: 24\n",
        "         Gradient evaluations: 8\n"
       ]
      },
      {
       "metadata": {},
       "output_type": "pyout",
       "prompt_number": 47,
       "text": [
        "array([-1.30644003])"
       ]
      }
     ],
     "prompt_number": 47
    },
    {
     "cell_type": "code",
     "collapsed": false,
     "input": [
      "pl.scatter([-1.30644003],[f(-1.30644003)],color='red',s=20)"
     ],
     "language": "python",
     "metadata": {},
     "outputs": [
      {
       "metadata": {},
       "output_type": "pyout",
       "prompt_number": 52,
       "text": [
        "<matplotlib.collections.PathCollection at 0x7f16b5617a90>"
       ]
      }
     ],
     "prompt_number": 52
    },
    {
     "cell_type": "code",
     "collapsed": false,
     "input": [
      "f(0)"
     ],
     "language": "python",
     "metadata": {},
     "outputs": [
      {
       "metadata": {},
       "output_type": "pyout",
       "prompt_number": 53,
       "text": [
        "0.0"
       ]
      }
     ],
     "prompt_number": 53
=======
        "codetest.ipynb  LICENSE          README.md\r\n",
        "file.mat        pylab~sample.py\r\n"
       ]
      }
     ],
     "prompt_number": 86
>>>>>>> 5dd76770d90d39773df2ea144e8f41badd2660ef
    },
    {
     "cell_type": "code",
     "collapsed": false,
     "input": [
<<<<<<< HEAD
      "f(-2.5)"
     ],
     "language": "python",
     "metadata": {},
     "outputs": [
      {
       "metadata": {},
       "output_type": "pyout",
       "prompt_number": 54,
       "text": [
        "0.26527855896043473"
       ]
      }
     ],
     "prompt_number": 54
=======
      "!cp /home/enboyang/Baidu/Picture/Ribery\\ and\\ Robben.jpg ."
     ],
     "language": "python",
     "metadata": {},
     "outputs": [],
     "prompt_number": 87
>>>>>>> 5dd76770d90d39773df2ea144e8f41badd2660ef
    },
    {
     "cell_type": "code",
     "collapsed": false,
     "input": [
<<<<<<< HEAD
      "optimize.fsolve(f, )"
=======
      "from scipy import misc\n",
      "misc.imread('Ribery and Robben.jpg')\n"
>>>>>>> 5dd76770d90d39773df2ea144e8f41badd2660ef
     ],
     "language": "python",
     "metadata": {},
     "outputs": [
      {
       "metadata": {},
       "output_type": "pyout",
<<<<<<< HEAD
       "prompt_number": 57,
       "text": [
        "array([-2.47948183])"
       ]
      }
     ],
     "prompt_number": 57
    },
    {
     "cell_type": "code",
     "collapsed": false,
     "input": [
      "xdata=np.linspace(-10,10,num=20)\n",
      "ydata=f(xdata)+np.random.randn(xdata.size)"
     ],
     "language": "python",
     "metadata": {},
     "outputs": [],
     "prompt_number": 59
    },
    {
     "cell_type": "code",
     "collapsed": false,
     "input": [
      "def f2(x,a,b):\n",
      "    return a*x**2+b*np.cos(x)\n"
     ],
     "language": "python",
     "metadata": {},
     "outputs": [],
=======
       "prompt_number": 89,
       "text": [
        "array([[[ 40,  43,  50],\n",
        "        [ 40,  43,  50],\n",
        "        [ 40,  43,  50],\n",
        "        ..., \n",
        "        [ 30,  44,  47],\n",
        "        [ 30,  41,  45],\n",
        "        [ 30,  41,  45]],\n",
        "\n",
        "       [[ 41,  44,  51],\n",
        "        [ 41,  44,  51],\n",
        "        [ 41,  44,  51],\n",
        "        ..., \n",
        "        [ 30,  44,  47],\n",
        "        [ 30,  41,  45],\n",
        "        [ 30,  41,  45]],\n",
        "\n",
        "       [[ 42,  45,  52],\n",
        "        [ 42,  45,  52],\n",
        "        [ 41,  44,  51],\n",
        "        ..., \n",
        "        [ 30,  44,  47],\n",
        "        [ 31,  42,  46],\n",
        "        [ 31,  42,  46]],\n",
        "\n",
        "       ..., \n",
        "       [[102, 147,  44],\n",
        "        [100, 145,  42],\n",
        "        [ 96, 141,  38],\n",
        "        ..., \n",
        "        [ 92, 139,  27],\n",
        "        [ 94, 138,  27],\n",
        "        [ 94, 138,  25]],\n",
        "\n",
        "       [[ 97, 143,  44],\n",
        "        [ 96, 142,  43],\n",
        "        [ 96, 143,  41],\n",
        "        ..., \n",
        "        [ 88, 136,  24],\n",
        "        [ 89, 136,  24],\n",
        "        [ 83, 130,  18]],\n",
        "\n",
        "       [[ 96, 144,  45],\n",
        "        [ 95, 143,  44],\n",
        "        [ 96, 142,  43],\n",
        "        ..., \n",
        "        [ 88, 136,  26],\n",
        "        [ 93, 141,  29],\n",
        "        [ 88, 136,  24]]], dtype=uint8)"
       ]
      }
     ],
>>>>>>> 5dd76770d90d39773df2ea144e8f41badd2660ef
     "prompt_number": 89
    },
    {
     "cell_type": "code",
     "collapsed": false,
     "input": [
<<<<<<< HEAD
      "guess=[2,2]"
     ],
     "language": "python",
     "metadata": {},
     "outputs": [],
     "prompt_number": 90
    },
    {
     "cell_type": "code",
     "collapsed": false,
     "input": [
      "params,params_coveriance=optimize.curve_fit(f2,xdata,ydata,guess)"
=======
      "a=pl.imread('Ribery and Robben.jpg')"
>>>>>>> 5dd76770d90d39773df2ea144e8f41badd2660ef
     ],
     "language": "python",
     "metadata": {},
     "outputs": [],
     "prompt_number": 91
    },
    {
     "cell_type": "code",
     "collapsed": false,
     "input": [
<<<<<<< HEAD
      "params"
=======
      "pl.imshow(a,cmap=pl.cm.gray)"
>>>>>>> 5dd76770d90d39773df2ea144e8f41badd2660ef
     ],
     "language": "python",
     "metadata": {},
     "outputs": [
      {
       "metadata": {},
       "output_type": "pyout",
       "prompt_number": 92,
       "text": [
<<<<<<< HEAD
        "array([ 0.99768548,  0.33841976])"
=======
        "<matplotlib.image.AxesImage at 0x7fdc26442c10>"
>>>>>>> 5dd76770d90d39773df2ea144e8f41badd2660ef
       ]
      }
     ],
     "prompt_number": 92
    },
    {
     "cell_type": "code",
     "collapsed": false,
     "input": [
<<<<<<< HEAD
      "pl.plot(x,f2(x,0.99768548,0.33841976))"
=======
      "pl.colorbar()"
>>>>>>> 5dd76770d90d39773df2ea144e8f41badd2660ef
     ],
     "language": "python",
     "metadata": {},
     "outputs": [
      {
       "metadata": {},
       "output_type": "pyout",
<<<<<<< HEAD
       "prompt_number": 74,
       "text": [
        "[<matplotlib.lines.Line2D at 0x7f16b49abfd0>]"
       ]
      }
     ],
     "prompt_number": 74
    },
    {
     "cell_type": "code",
     "collapsed": false,
     "input": [
      "#pl.plot(xdata,f2(xdata,99768548,0.33841976),color='blue')\n",
      "pl.plot(xdata,f(xdata),color='red',linewidth=3.0,linestyle='--')"
     ],
     "language": "python",
     "metadata": {},
     "outputs": [
      {
       "metadata": {},
       "output_type": "pyout",
       "prompt_number": 98,
       "text": [
        "[<matplotlib.lines.Line2D at 0x7f16b0a11b50>]"
       ]
      }
     ],
     "prompt_number": 98
    },
    {
     "cell_type": "code",
     "collapsed": false,
     "input": [
      "pl.close('all')"
     ],
     "language": "python",
     "metadata": {},
     "outputs": [],
     "prompt_number": 110
    },
    {
     "cell_type": "code",
     "collapsed": false,
     "input": [
      "%run ~/temp/scipy_optimize_sixhump.py"
     ],
     "language": "python",
     "metadata": {},
     "outputs": [],
     "prompt_number": 82
    },
    {
     "cell_type": "code",
     "collapsed": false,
     "input": [
      "pl.plot(xdata,f2(xdata,99768548,0.33841976),color='blue')"
     ],
     "language": "python",
     "metadata": {},
     "outputs": [
      {
       "metadata": {},
       "output_type": "pyout",
       "prompt_number": 109,
       "text": [
        "[<matplotlib.lines.Line2D at 0x7f16b09d43d0>]"
       ]
      }
     ],
     "prompt_number": 109
    },
    {
     "cell_type": "code",
     "collapsed": false,
     "input": [],
     "language": "python",
     "metadata": {},
     "outputs": [
      {
       "metadata": {},
       "output_type": "pyout",
       "prompt_number": 108,
       "text": [
        "(-20, 20000)"
       ]
      }
     ],
     "prompt_number": 108
    },
    {
     "cell_type": "code",
     "collapsed": false,
     "input": [
      "mpl.colorbar"
     ],
     "language": "python",
     "metadata": {},
     "outputs": [
      {
       "metadata": {},
       "output_type": "pyout",
       "prompt_number": 86,
       "text": [
        "<module 'matplotlib.colorbar' from '/usr/lib/pymodules/python2.7/matplotlib/colorbar.pyc'>"
       ]
      }
     ],
     "prompt_number": 86
    },
    {
     "cell_type": "code",
     "collapsed": false,
     "input": [
      "pl.show()"
     ],
     "language": "python",
     "metadata": {},
     "outputs": [],
     "prompt_number": 87
=======
       "prompt_number": 93,
       "text": [
        "<matplotlib.colorbar.Colorbar instance at 0x7fdc270716c8>"
       ]
      }
     ],
     "prompt_number": 93
>>>>>>> 5dd76770d90d39773df2ea144e8f41badd2660ef
    },
    {
     "cell_type": "code",
     "collapsed": false,
     "input": [
      "pl.close()"
     ],
     "language": "python",
     "metadata": {},
     "outputs": [],
<<<<<<< HEAD
     "prompt_number": 88
=======
     "prompt_number": 94
>>>>>>> 5dd76770d90d39773df2ea144e8f41badd2660ef
    },
    {
     "cell_type": "code",
     "collapsed": false,
     "input": [
<<<<<<< HEAD
      "a=np.random.normal(size=1000)\n",
      "bins=np.arange(-4,5)\n",
      "histogram=np.histogram(a,bins=bins,normed=True)[0]"
=======
      "from scipy import linalg"
>>>>>>> 5dd76770d90d39773df2ea144e8f41badd2660ef
     ],
     "language": "python",
     "metadata": {},
     "outputs": [],
<<<<<<< HEAD
     "prompt_number": 111
    },
    {
     "cell_type": "code",
     "collapsed": false,
     "input": [
      "bins"
     ],
     "language": "python",
     "metadata": {},
     "outputs": [
      {
       "metadata": {},
       "output_type": "pyout",
       "prompt_number": 113,
       "text": [
        "array([-4, -3, -2, -1,  0,  1,  2,  3,  4])"
       ]
      }
     ],
     "prompt_number": 113
    },
    {
     "cell_type": "code",
     "collapsed": false,
     "input": [
      "bins=0.5*(bins[1:]+bins[:-1])\n",
      "bins"
     ],
     "language": "python",
     "metadata": {},
     "outputs": [
      {
       "metadata": {},
       "output_type": "pyout",
       "prompt_number": 114,
       "text": [
        "array([-3.5, -2.5, -1.5, -0.5,  0.5,  1.5,  2.5,  3.5])"
       ]
      }
     ],
     "prompt_number": 114
    },
    {
     "cell_type": "code",
     "collapsed": false,
     "input": [
      "from scipy import stats\n",
      "b=stats.norm.pdf(bins)\n",
      "pl.plot(bins,histogram)"
     ],
     "language": "python",
     "metadata": {},
     "outputs": [
      {
       "metadata": {},
       "output_type": "pyout",
       "prompt_number": 145,
       "text": [
        "[<matplotlib.lines.Line2D at 0x7f16a95dbcd0>]"
       ]
      }
     ],
     "prompt_number": 145
    },
    {
     "cell_type": "code",
     "collapsed": false,
     "input": [
      "pl.plot(bins,b)"
     ],
     "language": "python",
     "metadata": {},
     "outputs": [
      {
       "metadata": {},
       "output_type": "pyout",
       "prompt_number": 147,
       "text": [
        "[<matplotlib.lines.Line2D at 0x7f16a956e090>]"
       ]
      }
     ],
     "prompt_number": 147
=======
     "prompt_number": 95
>>>>>>> 5dd76770d90d39773df2ea144e8f41badd2660ef
    },
    {
     "cell_type": "code",
     "collapsed": false,
     "input": [
<<<<<<< HEAD
      "pl.hist(a,bins=bins,normed=True,histtype='step')"
     ],
     "language": "python",
     "metadata": {},
     "outputs": [
      {
       "metadata": {},
       "output_type": "pyout",
       "prompt_number": 146,
       "text": [
        "(array([ 0.003003  ,  0.04404404,  0.23223223,  0.4044044 ,  0.24724725,\n",
        "        0.06406406,  0.00500501]),\n",
        " array([-3.5, -2.5, -1.5, -0.5,  0.5,  1.5,  2.5,  3.5]),\n",
        " <a list of 1 Patch objects>)"
       ]
      }
     ],
     "prompt_number": 146
    },
    {
     "cell_type": "code",
     "collapsed": false,
     "input": [
      "from astroML.plotting import hist as bbhist"
     ],
     "language": "python",
     "metadata": {},
     "outputs": [],
     "prompt_number": 135
    },
    {
     "cell_type": "code",
     "collapsed": false,
     "input": [
      "array=np.array([1,2,3,2,])"
     ],
     "language": "python",
     "metadata": {},
     "outputs": [],
     "prompt_number": 128
    },
    {
     "cell_type": "code",
     "collapsed": false,
     "input": [
      "np.amin(array)"
     ],
     "language": "python",
     "metadata": {},
     "outputs": [
      {
       "metadata": {},
       "output_type": "pyout",
       "prompt_number": 134,
       "text": [
        "1"
       ]
      }
     ],
     "prompt_number": 134
    },
    {
     "cell_type": "code",
     "collapsed": false,
     "input": [
      "bbhist(a,bins='blocks',histtype='step',color='black',normed=True)"
     ],
     "language": "python",
     "metadata": {},
     "outputs": [
      {
       "metadata": {},
       "output_type": "pyout",
       "prompt_number": 144,
       "text": [
        "(array([ 0.01254399,  0.06313903,  0.19407326,  0.38736529,  0.25573643,\n",
        "        0.07519395,  0.00676683]),\n",
        " array([-2.70060484, -2.14256849, -1.49320783, -0.79759423,  0.47252472,\n",
        "        1.45791426,  2.30904652,  3.63906453]),\n",
        " <a list of 1 Patch objects>)"
       ]
      }
     ],
     "prompt_number": 144
    },
    {
     "cell_type": "code",
     "collapsed": false,
     "input": [
      "pl.show()"
=======
      "arr=np.array([[1,2],[3,4]])"
>>>>>>> 5dd76770d90d39773df2ea144e8f41badd2660ef
     ],
     "language": "python",
     "metadata": {},
     "outputs": [],
<<<<<<< HEAD
     "prompt_number": 138
=======
     "prompt_number": 96
>>>>>>> 5dd76770d90d39773df2ea144e8f41badd2660ef
    },
    {
     "cell_type": "code",
     "collapsed": false,
     "input": [
<<<<<<< HEAD
      "pl.close()"
     ],
     "language": "python",
     "metadata": {},
     "outputs": [],
     "prompt_number": 148
    },
    {
     "cell_type": "code",
     "collapsed": false,
     "input": [
      "bins"
=======
      "linalg.det(arr)"
>>>>>>> 5dd76770d90d39773df2ea144e8f41badd2660ef
     ],
     "language": "python",
     "metadata": {},
     "outputs": [
      {
       "metadata": {},
       "output_type": "pyout",
<<<<<<< HEAD
       "prompt_number": 141,
       "text": [
        "array([-3.5, -2.5, -1.5, -0.5,  0.5,  1.5,  2.5,  3.5])"
       ]
      }
     ],
     "prompt_number": 141
=======
       "prompt_number": 97,
       "text": [
        "-2.0"
       ]
      }
     ],
     "prompt_number": 97
>>>>>>> 5dd76770d90d39773df2ea144e8f41badd2660ef
    },
    {
     "cell_type": "code",
     "collapsed": false,
     "input": [
<<<<<<< HEAD
      "a=np.random.gamma(1,size=1000)"
=======
      "time_step=0.02\n",
      "period=5.\n",
      "time_vec=np.arange(0,20,time_step)\n",
      "sig=np.sin(2*np.pi/period*time_vec)+0.5*np.random.randn(time_vec.size)"
>>>>>>> 5dd76770d90d39773df2ea144e8f41badd2660ef
     ],
     "language": "python",
     "metadata": {},
     "outputs": [],
<<<<<<< HEAD
     "prompt_number": 150
=======
     "prompt_number": 99
>>>>>>> 5dd76770d90d39773df2ea144e8f41badd2660ef
    },
    {
     "cell_type": "code",
     "collapsed": false,
     "input": [
<<<<<<< HEAD
      "bbhist(a,bins='blocks',histtype='step',normed=True)"
=======
      "sig"
>>>>>>> 5dd76770d90d39773df2ea144e8f41badd2660ef
     ],
     "language": "python",
     "metadata": {},
     "outputs": [
      {
       "metadata": {},
       "output_type": "pyout",
<<<<<<< HEAD
       "prompt_number": 152,
       "text": [
        "(array([ 1.31766203,  0.8052658 ,  0.46910223,  0.28029948,  0.15169408,\n",
        "        0.07679463,  0.0140553 ,  0.00140363]),\n",
        " array([  5.44633077e-04,   5.82225494e-02,   3.57502614e-01,\n",
        "         1.13132115e+00,   1.65932784e+00,   2.07463738e+00,\n",
        "         3.03824643e+00,   5.31496771e+00,   7.45227999e+00]),\n",
        " <a list of 1 Patch objects>)"
       ]
      }
     ],
     "prompt_number": 152
=======
       "prompt_number": 100,
       "text": [
        "array([  2.70382581e-01,   8.51892986e-02,   1.11142071e+00,\n",
        "         3.34222375e-01,   1.97675049e-01,   1.76376608e-01,\n",
        "         1.07927971e-01,   6.29789599e-02,  -7.83560285e-02,\n",
        "         8.80171424e-02,   1.58563252e-01,   4.08056976e-01,\n",
        "         5.02214164e-01,  -4.96205500e-01,  -1.55245401e-01,\n",
        "         7.73939316e-01,   1.44364598e+00,   4.99972425e-01,\n",
        "        -3.98209331e-01,   4.44306692e-01,  -7.96528167e-01,\n",
        "         4.38558634e-01,   6.04033133e-01,   2.90392193e-01,\n",
        "         7.46452472e-01,   8.14864571e-01,   1.06422071e+00,\n",
        "         1.24815630e+00,   3.41559506e-01,   1.22828574e+00,\n",
        "         9.04180604e-01,   8.58635141e-01,   5.90147382e-01,\n",
        "         1.17963737e+00,   6.92640638e-01,   6.03252573e-01,\n",
        "         5.35631272e-01,   1.41718057e+00,   1.36068450e+00,\n",
        "         7.58563603e-01,   3.67929755e-01,   1.06984916e+00,\n",
        "         4.72796371e-02,   6.01353096e-01,   1.46958110e-01,\n",
        "         3.04628543e-01,   7.82354093e-01,   1.27148319e+00,\n",
        "         1.65901740e+00,  -1.33405969e-01,   1.41610543e+00,\n",
        "         8.36770072e-01,   3.95129226e-01,   5.87584023e-01,\n",
        "         8.01157538e-01,   5.70053597e-01,   1.27046318e+00,\n",
        "         1.13851371e+00,   1.52990103e+00,   1.29983618e+00,\n",
        "         1.39837913e+00,   4.85754928e-01,   1.15200974e+00,\n",
        "         8.59001151e-01,   9.55181663e-01,   9.98533379e-01,\n",
        "         1.55525364e+00,   4.12885675e-01,   1.25473155e+00,\n",
        "         1.17066735e+00,   4.70913015e-01,   1.51606057e+00,\n",
        "         1.22532753e+00,   6.29631256e-01,   7.19250610e-01,\n",
        "         6.16710647e-01,   7.07215163e-01,   1.17698320e+00,\n",
        "         1.25591231e+00,   1.50575400e+00,   1.24524494e+00,\n",
        "         6.99559828e-01,   7.62630473e-01,   8.65433824e-01,\n",
        "         2.03152974e-01,   7.85678689e-01,   9.22112833e-01,\n",
        "         1.08712463e+00,   5.21213798e-01,   1.08095816e+00,\n",
        "         9.17683572e-01,   8.53845177e-01,   2.02338269e+00,\n",
        "         1.12892275e+00,   6.51991405e-01,   1.10955761e-01,\n",
        "         1.16200361e+00,   4.88699447e-01,   4.39232902e-01,\n",
        "         5.73685860e-01,   1.56245521e+00,   1.51618690e+00,\n",
        "         5.36418319e-01,   1.67006221e+00,   9.63382062e-02,\n",
        "         8.74980450e-01,   7.23269736e-02,   6.23272344e-01,\n",
        "         1.08140669e+00,  -1.68361208e-01,  -1.94826213e-01,\n",
        "         1.40830265e+00,   9.05988220e-02,  -1.34684857e-01,\n",
        "        -7.51362077e-02,   2.54855245e-01,   4.37747115e-01,\n",
        "         6.62531205e-01,  -3.01681544e-01,  -8.49467575e-01,\n",
        "        -7.14101116e-01,  -6.44097851e-01,   1.40490102e-01,\n",
        "        -1.46180609e-01,  -4.93363116e-02,   3.38081781e-01,\n",
        "         2.24859491e-01,  -3.75698862e-03,   5.01917247e-01,\n",
        "        -7.31178395e-01,  -1.89970223e-01,  -5.43040217e-01,\n",
        "        -4.41457758e-02,   1.52619307e-01,  -3.79904023e-01,\n",
        "         4.38836486e-01,  -1.81250017e-01,  -5.51427292e-01,\n",
        "         3.69844094e-01,   3.11992362e-01,  -1.10210376e+00,\n",
        "        -2.74005663e-01,  -1.18240980e-01,  -8.24661318e-01,\n",
        "        -6.68156961e-02,  -4.37950095e-02,  -8.32430352e-01,\n",
        "        -2.27656443e-02,  -1.20404786e+00,  -1.93383515e-01,\n",
        "        -6.81078996e-01,  -9.66504314e-01,  -6.79218299e-01,\n",
        "        -1.51678301e+00,  -1.90388403e-01,  -4.56754921e-01,\n",
        "        -3.34751745e-01,  -6.67601588e-01,  -8.09953334e-01,\n",
        "        -9.39323025e-01,  -7.31555221e-01,  -1.23335827e+00,\n",
        "        -5.86676402e-01,  -2.33527401e-01,  -1.30681317e+00,\n",
        "        -2.08936012e+00,  -1.42496573e+00,  -6.72941675e-01,\n",
        "        -6.55801546e-01,  -8.95746043e-01,  -6.43740208e-01,\n",
        "        -1.28984520e+00,  -1.64851903e+00,  -3.97860791e-01,\n",
        "        -1.28838731e+00,  -7.61705840e-01,  -7.95267726e-01,\n",
        "        -3.96772978e-01,  -1.55811008e+00,  -7.68396191e-01,\n",
        "        -2.06635517e+00,  -5.08106663e-01,  -8.43711890e-01,\n",
        "        -9.80470548e-01,  -5.93723555e-01,  -7.29855942e-01,\n",
        "        -1.31467952e+00,  -1.64800496e+00,  -1.22406270e+00,\n",
        "        -1.13694041e+00,  -9.85262156e-01,  -1.57935052e+00,\n",
        "        -2.96290855e-01,  -4.80944524e-01,  -1.84581718e+00,\n",
        "        -8.02860403e-01,  -6.82100920e-01,  -5.65405911e-01,\n",
        "        -2.21310959e-01,  -2.50876075e+00,  -1.22290347e+00,\n",
        "        -7.56752794e-01,   1.02802175e-01,  -1.62771414e+00,\n",
        "        -9.11442704e-01,  -7.91651738e-01,  -5.39337887e-01,\n",
        "        -7.49657536e-01,   8.40051419e-02,  -3.43339907e-01,\n",
        "        -1.54040024e+00,  -4.97766153e-01,  -1.07582553e+00,\n",
        "        -1.27510616e+00,  -6.47815233e-01,  -4.87571916e-01,\n",
        "        -1.25164239e-01,  -1.57091453e+00,  -6.64109057e-01,\n",
        "        -9.86115318e-01,  -7.25441303e-01,  -4.21641286e-01,\n",
        "        -6.67820929e-01,  -1.10159167e+00,  -5.77792103e-01,\n",
        "         1.79540473e-01,  -1.22976974e+00,   2.24930863e-02,\n",
        "        -9.60525871e-01,   5.13332148e-01,  -1.35914328e+00,\n",
        "         9.46672979e-02,   1.59514734e-02,  -3.25716953e-01,\n",
        "        -5.21334730e-01,   1.72804938e-01,  -1.59181240e+00,\n",
        "        -7.27336123e-02,  -2.98816651e-01,   8.40084694e-02,\n",
        "        -1.81894139e-01,   3.34805425e-02,  -2.39777471e-02,\n",
        "         4.91165585e-02,  -9.02327663e-01,   9.15039955e-02,\n",
        "        -3.31177055e-01,  -4.38741030e-01,  -1.24036458e-02,\n",
        "         4.52621754e-01,   4.69719391e-01,   7.52435618e-02,\n",
        "         6.61727406e-01,  -2.07216981e-01,  -7.89235904e-02,\n",
        "         1.83093067e-01,   8.76459525e-02,   4.78982189e-01,\n",
        "         9.59858620e-02,   2.78576413e-01,   6.27750203e-01,\n",
        "         1.31784606e-01,   4.41429428e-01,  -2.87687255e-02,\n",
        "         1.32004890e-01,   1.07839223e-01,   1.01196297e+00,\n",
        "         4.21908423e-01,  -1.89578196e-01,   6.10757126e-01,\n",
        "         5.64594292e-01,   5.80167643e-01,   7.88323524e-01,\n",
        "         9.10417155e-02,   1.01069134e+00,   1.30743925e+00,\n",
        "        -9.59181518e-02,   1.47062059e+00,   1.14122041e+00,\n",
        "         9.84177120e-01,   3.89311930e-01,   2.92143061e-01,\n",
        "         3.99854630e-01,   5.46635248e-01,   7.77967786e-01,\n",
        "         1.33476539e+00,   1.15692044e+00,   9.81006924e-01,\n",
        "         6.34052852e-01,   3.87098762e-01,   2.34280710e-01,\n",
        "         1.29829554e-01,   4.83566445e-01,   2.03850660e-01,\n",
        "         1.35877254e+00,   1.19773007e+00,   8.88543794e-01,\n",
        "         6.15525441e-01,   9.18370025e-01,   7.32599832e-01,\n",
        "         9.10521537e-01,   2.01580582e+00,   1.15028422e+00,\n",
        "         2.28472670e-01,   1.20984223e+00,   3.98960253e-01,\n",
        "         3.02949118e-01,   8.39747842e-01,   5.30164389e-01,\n",
        "         7.17353492e-01,   1.66495990e+00,   1.59059045e+00,\n",
        "         2.04306410e-01,   1.73215536e+00,   4.25015919e-01,\n",
        "         8.96153785e-01,  -7.51610524e-02,   1.45669808e+00,\n",
        "         1.02329577e+00,   5.83583295e-01,   8.22658365e-01,\n",
        "         6.80385908e-01,   1.20813338e+00,   1.51356488e+00,\n",
        "         5.84641770e-01,   8.45164749e-01,   8.78879321e-01,\n",
        "         1.40176553e+00,   1.12521197e+00,   5.29411512e-01,\n",
        "         7.18741213e-01,   3.90591562e-01,   1.06927234e+00,\n",
        "         1.41400351e+00,   6.85032234e-01,  -4.89105615e-01,\n",
        "         1.17160599e+00,   7.84694136e-01,   1.01976700e+00,\n",
        "         5.47718454e-01,   4.00313845e-01,   1.22553386e+00,\n",
        "         3.82709453e-01,   3.82249320e-01,   1.35955356e+00,\n",
        "         4.84342792e-01,  -4.94531663e-01,   1.21327637e+00,\n",
        "         3.00732488e-01,   9.88592414e-01,   5.06330725e-01,\n",
        "         4.35747314e-01,   4.75088226e-01,   6.71040366e-01,\n",
        "         1.78307852e+00,   1.39897700e+00,   2.47377875e-03,\n",
        "         5.71969907e-01,   1.73458439e-01,  -3.54556085e-01,\n",
        "         1.57841919e-01,  -1.63382504e-01,   1.91079616e-02,\n",
        "         1.01616295e-01,  -4.06301604e-01,   5.46177959e-01,\n",
        "        -4.03404142e-01,   3.09145565e-01,   7.74187458e-02,\n",
        "        -3.38353378e-01,  -3.98648900e-01,  -1.01032737e+00,\n",
        "        -2.19443693e-02,   7.03962257e-02,  -6.44492585e-01,\n",
        "        -1.17111364e-01,  -5.57534364e-01,  -2.25085501e-01,\n",
        "        -5.26480700e-01,  -2.48688333e-02,   7.25028360e-01,\n",
        "        -4.14497058e-01,   2.22077302e-02,  -1.69630257e-01,\n",
        "        -3.83978222e-01,  -4.37730719e-01,  -2.72294974e-01,\n",
        "        -2.87256083e-01,  -4.78391309e-01,  -1.38130637e+00,\n",
        "         2.55694444e-01,  -1.35085469e-01,  -1.03776015e+00,\n",
        "        -6.95357828e-01,  -1.04494477e+00,  -8.67815224e-01,\n",
        "        -4.16430352e-02,  -5.82816688e-01,   5.52109163e-01,\n",
        "        -1.37754139e+00,  -1.08730844e+00,  -3.07133614e-01,\n",
        "         3.51526866e-01,  -1.04405101e+00,  -9.38964449e-01,\n",
        "        -8.55265145e-01,  -3.13871065e-01,  -1.18013439e+00,\n",
        "        -4.99670540e-01,  -7.54925746e-01,  -7.93949457e-01,\n",
        "        -8.11018107e-01,  -1.17348339e+00,  -2.81520590e-02,\n",
        "        -1.03657809e+00,   5.56895942e-02,  -1.19079450e+00,\n",
        "        -6.02744920e-01,  -7.88667052e-01,  -1.70899605e+00,\n",
        "         2.34045935e-02,  -8.64357773e-01,  -7.27439164e-01,\n",
        "        -6.84928222e-01,  -1.24631306e+00,  -5.71371754e-01,\n",
        "        -1.02188963e+00,  -7.99171749e-01,  -4.38880668e-01,\n",
        "        -4.05918186e-01,  -6.58631116e-01,  -7.53489107e-01,\n",
        "        -1.13485207e+00,  -1.24466810e+00,  -1.92978790e+00,\n",
        "        -1.20587251e+00,  -1.34793069e+00,  -6.15046254e-01,\n",
        "        -8.98276894e-01,  -6.55805804e-01,  -2.79847514e-01,\n",
        "        -1.37911652e+00,  -1.42646823e+00,  -8.87750696e-01,\n",
        "        -3.55381720e-01,  -9.29355262e-01,  -1.01160749e+00,\n",
        "        -1.24339881e+00,  -1.85106429e+00,  -1.33782022e-01,\n",
        "        -9.02647475e-01,  -5.12114068e-01,  -5.24534950e-02,\n",
        "        -1.33416343e-01,   2.47164604e-01,  -1.51493488e+00,\n",
        "        -7.13815448e-01,  -9.49014125e-01,  -7.19264192e-01,\n",
        "        -3.92649715e-01,  -5.69875410e-01,   3.63443402e-01,\n",
        "        -8.78411864e-01,  -1.31050177e+00,  -1.21438369e+00,\n",
        "        -1.52208824e+00,  -1.30721405e+00,  -9.20180814e-01,\n",
        "        -1.75529533e+00,  -6.87607436e-01,  -1.94792572e-01,\n",
        "        -1.47222371e-01,  -1.86688125e-01,  -3.61856844e-01,\n",
        "         8.33425371e-03,  -2.79316116e-02,  -5.38756993e-01,\n",
        "        -2.77513304e-01,  -2.20794074e-01,  -4.38054397e-01,\n",
        "        -1.02434390e+00,  -2.90635101e-01,  -2.18122422e-01,\n",
        "        -4.03495530e-02,  -6.15349297e-01,  -4.14124962e-01,\n",
        "        -8.79665477e-02,   2.89030429e-01,   8.80942378e-02,\n",
        "        -8.70137225e-01,  -4.74674421e-01,  -6.43549705e-01,\n",
        "        -3.41787717e-01,  -2.21620881e-01,  -6.23620455e-01,\n",
        "         1.17002321e-01,   4.95819665e-01,   3.19135102e-02,\n",
        "        -7.70013497e-01,   2.31941723e-01,   1.23333707e+00,\n",
        "         8.92553291e-01,   1.26952511e-01,   2.49601283e-01,\n",
        "        -7.45320338e-01,   8.22517263e-01,  -1.92681996e-01,\n",
        "         2.31934312e-01,   5.37579999e-01,   1.00128844e+00,\n",
        "         4.61966216e-01,   6.59755315e-01,   9.56670846e-02,\n",
        "        -2.77598103e-01,   6.20388939e-01,   2.78584487e-01,\n",
        "        -2.08216869e-01,   5.72223595e-01,  -3.20087722e-01,\n",
        "         5.35734696e-01,   5.20592934e-01,  -1.44093016e-01,\n",
        "         3.92235517e-01,   8.07403051e-01,   6.24338729e-01,\n",
        "         2.10159243e-01,   1.25536813e+00,   1.68402187e+00,\n",
        "         1.17421340e+00,   2.70567123e-01,   3.09035471e-02,\n",
        "        -6.38011993e-02,   9.83933967e-01,  -8.60809966e-01,\n",
        "         4.97382367e-01,   6.86215437e-01,   5.86245389e-01,\n",
        "         6.87653934e-01,   1.46138036e+00,   1.57792310e+00,\n",
        "         1.50867009e+00,   5.11689881e-01,   8.57381135e-01,\n",
        "        -1.67271159e-01,   1.66376444e-01,   1.37555519e+00,\n",
        "         6.52580540e-01,   1.91831847e+00,   6.42002602e-01,\n",
        "         5.97539833e-01,   6.15760033e-01,   3.45544630e-01,\n",
        "         1.17623925e+00,   7.50021379e-01,   1.42654870e+00,\n",
        "         5.37915861e-01,   1.18446555e+00,   1.65456971e+00,\n",
        "        -2.44971025e-01,   1.03042318e+00,   4.67489905e-01,\n",
        "         6.63225850e-01,   8.69748367e-01,   3.99766193e-01,\n",
        "         1.29345254e+00,   1.59179936e+00,   1.48426351e+00,\n",
        "        -1.23695970e-01,   1.04911204e+00,   2.03247487e+00,\n",
        "         9.15577575e-01,   1.21420528e+00,   1.22026063e+00,\n",
        "         1.22753553e+00,   7.70658878e-01,   6.98935113e-01,\n",
        "         9.66133551e-01,   1.48556336e+00,   1.05569734e+00,\n",
        "         1.33574018e+00,   9.51459585e-01,   1.00442721e+00,\n",
        "         2.01249258e-01,   4.93373449e-01,  -1.03983840e-01,\n",
        "         1.03605089e+00,   1.32062740e+00,   5.61236302e-01,\n",
        "         1.09454406e+00,   7.18285557e-01,   7.63704787e-01,\n",
        "         1.58178361e+00,  -7.21914121e-02,   8.38025607e-01,\n",
        "         1.03874065e+00,   3.10414683e-01,   1.96506805e-01,\n",
        "         1.05914024e+00,   1.52163083e+00,   9.98684589e-01,\n",
        "         1.22022081e+00,   5.66310464e-01,   1.02584448e+00,\n",
        "         1.23694862e+00,   6.00886708e-01,   1.34522807e+00,\n",
        "         1.51559889e-01,   2.66194832e-01,   7.65607956e-01,\n",
        "         7.57160927e-01,   5.13628414e-01,  -7.06603024e-01,\n",
        "         5.05607403e-01,   4.17041949e-01,   2.27553863e-01,\n",
        "        -1.26616483e-01,   1.02063827e+00,  -9.71556112e-01,\n",
        "         6.58137588e-01,   4.95795228e-01,  -2.52011538e-01,\n",
        "        -2.47750412e-01,  -5.65249613e-01,   2.92897635e-01,\n",
        "        -2.92643662e-01,  -6.95565741e-02,   6.80261534e-01,\n",
        "         5.69260885e-01,  -5.14525577e-02,  -9.79220225e-01,\n",
        "         7.43979439e-01,  -4.19756067e-02,   3.53074979e-01,\n",
        "        -8.18718062e-01,  -5.44010639e-01,  -3.43485419e-01,\n",
        "        -9.87459444e-02,  -4.87566750e-01,  -2.17889666e-01,\n",
        "        -2.84807172e-01,   1.14615579e+00,  -7.06383498e-01,\n",
        "        -6.74696810e-01,  -2.76971097e-02,   2.71771553e-01,\n",
        "        -8.47826824e-01,  -7.87619667e-01,   2.11880098e-01,\n",
        "        -1.21548046e-01,   3.20462186e-01,   1.96893134e-01,\n",
        "        -2.11338461e-01,  -5.64470871e-01,  -1.54892718e+00,\n",
        "        -8.11961337e-01,  -1.07811541e+00,  -5.01533432e-01,\n",
        "        -6.32286032e-01,  -4.78149761e-01,  -3.17827454e-01,\n",
        "        -3.03236399e-01,  -1.28542690e+00,  -1.49393164e+00,\n",
        "        -1.16094867e+00,  -1.30650147e+00,  -1.09153460e+00,\n",
        "        -1.28057059e+00,  -9.67019306e-01,  -1.13524557e+00,\n",
        "        -6.09891349e-01,  -7.47277376e-01,  -1.54035935e+00,\n",
        "        -9.02941693e-01,  -8.11997960e-01,  -9.40340822e-01,\n",
        "        -1.09524013e+00,   3.66419507e-02,  -1.80588255e-01,\n",
        "        -1.01074928e+00,  -1.06499821e+00,  -7.36588481e-01,\n",
        "        -1.22632727e+00,  -7.85593922e-01,  -3.82303362e-01,\n",
        "        -1.58323729e+00,  -1.19406880e+00,  -9.71570518e-01,\n",
        "        -8.85802158e-01,  -2.71826692e-01,  -1.60213860e+00,\n",
        "        -1.12277312e+00,  -1.32922058e+00,  -2.28387828e+00,\n",
        "        -1.18857806e+00,  -6.89482088e-01,  -1.47141856e+00,\n",
        "        -1.51994325e+00,  -1.47186853e+00,  -9.11348910e-01,\n",
        "        -1.24410102e+00,  -1.68312876e+00,  -9.14269410e-01,\n",
        "        -1.10001366e+00,  -7.20588782e-01,  -1.25087417e+00,\n",
        "        -1.75158379e+00,  -1.03567882e+00,  -9.96811158e-01,\n",
        "         3.03814051e-01,  -5.11474663e-01,  -3.24701446e-01,\n",
        "        -1.00182887e+00,  -6.37874608e-01,  -1.20692084e-01,\n",
        "        -8.44637279e-03,  -1.98518106e-01,   1.89190799e-01,\n",
        "        -7.27862521e-01,  -1.06468994e+00,  -3.77653446e-01,\n",
        "        -4.47190905e-01,  -1.09566537e+00,   2.23209614e-01,\n",
        "        -1.37865162e+00,  -7.64267497e-01,  -4.64894593e-01,\n",
        "        -1.25489379e+00,   7.68352349e-01,  -3.59140736e-01,\n",
        "        -4.40979395e-01,  -6.39186947e-01,   2.67685161e-01,\n",
        "        -2.08200498e-01,  -1.46395171e-01,  -7.59387382e-02,\n",
        "        -6.99712045e-02,  -1.02265515e-02,  -5.50906914e-02,\n",
        "        -1.17980570e-01,  -6.94026819e-01,  -7.83491861e-01,\n",
        "        -4.17222288e-01,  -7.60134302e-03,   2.17754182e-01,\n",
        "        -3.00558711e-01,  -1.12471964e+00,  -4.67286749e-01,\n",
        "        -2.77109535e-01,   1.27677731e-01,  -8.03114203e-01,\n",
        "        -4.10953616e-01,  -7.58457181e-01,   1.52153184e-01,\n",
        "         4.27385750e-02,   4.38310551e-01,  -8.11919136e-01,\n",
        "        -8.52402857e-01,  -5.49463525e-01,  -4.08009642e-02,\n",
        "         6.00465981e-01,   7.69214720e-01,   3.31901881e-01,\n",
        "         5.66550020e-01,   1.27824812e-01,  -4.84583369e-01,\n",
        "         1.03331711e-01,   2.42689996e-01,  -4.42522978e-03,\n",
        "         1.00148074e+00,  -1.10517488e+00,  -1.22391136e-01,\n",
        "         5.66839694e-01,   5.06708629e-01,   1.13582226e+00,\n",
        "         1.58680844e+00,  -6.30137256e-01,   9.58955612e-01,\n",
        "         6.19238472e-01,   9.27140060e-01,   8.13912053e-01,\n",
        "         9.68190905e-02,   3.61295002e-01,   1.34085016e+00,\n",
        "         1.33795050e-02,   9.82179073e-01,   9.00338053e-01,\n",
        "        -2.67938817e-01,   4.83846634e-01,  -7.59441396e-02,\n",
        "         1.61332910e+00,   2.79624469e-01,   8.64295277e-01,\n",
        "        -2.32684483e-01,   1.38274663e+00,   8.18374392e-01,\n",
        "         3.29424762e-01,   1.43489821e+00,   1.04285913e+00,\n",
        "         7.08036102e-01,   1.10537826e+00,   6.24942477e-01,\n",
        "         1.19649302e+00,   1.47882930e+00,   3.11111704e-01,\n",
        "         1.23467966e+00,   3.20921557e-01,   1.95124127e+00,\n",
        "         1.39245838e+00,   9.64765401e-01,   9.01281694e-01,\n",
        "         1.27566948e+00,   1.21605528e+00,   8.66405379e-01,\n",
        "         4.65727383e-01,   3.84691165e-01,   8.00110601e-01,\n",
        "         2.30345784e-01,   6.96494353e-01,   7.47336749e-01,\n",
        "         1.69386266e+00,   1.79548065e+00,  -2.60960665e-01,\n",
        "         1.02128453e+00,   3.01866321e-01,   1.70084309e+00,\n",
        "         1.51089122e+00,   1.43343926e+00,   1.25685599e+00,\n",
        "         4.02332137e-01,   8.34865871e-01,   1.56965247e+00,\n",
        "         1.58538710e+00,   2.52719475e-01,   7.58906924e-01,\n",
        "         1.19905633e+00,   5.16784723e-01,   8.45531865e-01,\n",
        "         8.40968600e-01,   7.08083537e-01,   5.76516375e-01,\n",
        "        -8.99140608e-02,   2.62433282e-01,   7.90181574e-01,\n",
        "         2.30876064e-01,   5.58018606e-01,   5.07993109e-01,\n",
        "         9.42907372e-01,   2.67988157e-01,   5.78361567e-01,\n",
        "         1.36936489e+00,   3.88515792e-01,   1.52437702e-01,\n",
        "         4.36426386e-01,   1.12987486e+00,   2.82415963e-01,\n",
        "         1.65702363e-01,   2.98750803e-01,   4.56905690e-01,\n",
        "         8.63852858e-01,  -4.89104132e-01,   1.65599083e-01,\n",
        "         2.70920354e-01,  -3.50303857e-02,   3.94982098e-01,\n",
        "        -1.90184430e-01,   1.50904435e-01,   2.29041628e-01,\n",
        "        -1.61208552e-01,  -2.79594109e-01,   1.01436983e-01,\n",
        "        -2.16386984e-01,   4.09896021e-01,   4.02796124e-02,\n",
        "        -4.03280000e-01,   6.99920553e-01,   5.25395780e-01,\n",
        "        -9.57891018e-01,  -6.84451032e-01,   4.83538066e-01,\n",
        "         1.85547661e-02,   5.99450395e-01,  -1.04496020e-01,\n",
        "        -6.28273669e-01,  -3.47336969e-01,   5.47539166e-02,\n",
        "        -8.13104470e-01,  -5.53448779e-01,  -7.25963903e-01,\n",
        "        -8.63731470e-01,   6.05754629e-01,   9.87437470e-01,\n",
        "        -4.42631813e-01,  -2.20519115e-01,  -3.92854953e-01,\n",
        "        -6.51243590e-01,   3.52090674e-01,  -8.09978593e-02,\n",
        "        -8.89333876e-01,  -7.91755213e-01,  -5.51786939e-01,\n",
        "        -1.48837305e+00,   2.63548371e-01,  -7.58657802e-01,\n",
        "        -1.04922714e+00,  -1.25645982e+00,  -1.94543524e+00,\n",
        "        -1.11436997e+00,   1.13988013e-02,  -1.08327114e-01,\n",
        "        -8.42877031e-01,  -4.68050109e-01,  -1.53460187e+00,\n",
        "        -1.10800721e+00,  -7.78567514e-01,  -8.78880530e-01,\n",
        "        -1.18573932e+00,  -4.11016197e-01,  -3.59260416e-01,\n",
        "        -7.04644951e-01,  -4.60117993e-01,  -1.87447674e+00,\n",
        "         1.62967036e-01,  -1.04900087e+00,  -7.32761437e-01,\n",
        "        -1.29846373e+00,  -1.78164644e+00,  -6.35752852e-01,\n",
        "        -1.85887534e+00,  -1.32251060e+00,  -1.33159181e+00,\n",
        "        -8.68189563e-01,  -6.36777784e-01,  -1.05528981e+00,\n",
        "        -1.24791046e+00,  -1.84792489e+00,  -1.30052879e+00,\n",
        "        -1.73338232e+00,  -8.86120666e-01,  -4.23058427e-01,\n",
        "        -1.57578714e+00,  -1.03090979e+00,  -1.03445549e+00,\n",
        "        -7.81818382e-01,  -1.56400765e+00,  -8.22221319e-01,\n",
        "        -1.97770091e+00,  -9.83169334e-01,  -7.56902129e-01,\n",
        "        -9.44517701e-01,  -1.21635709e+00,  -1.11889487e+00,\n",
        "        -8.63670942e-01,  -9.59647016e-01,  -5.29771979e-01,\n",
        "         8.20234968e-02,  -1.97822639e+00,  -1.17426807e+00,\n",
        "        -9.58972003e-01,  -7.41753752e-01,  -1.33014070e+00,\n",
        "        -9.20484544e-01,  -1.51412977e+00,  -4.27934704e-01,\n",
        "        -4.22232909e-01,  -4.37406587e-01,  -6.40366745e-01,\n",
        "        -3.34103485e-01,  -9.44813695e-01,  -1.12272342e+00,\n",
        "        -1.03860411e+00,  -1.11357427e+00,  -1.16854702e+00,\n",
        "        -6.52717683e-01,  -6.27838802e-01,  -6.77593084e-01,\n",
        "        -5.15242929e-01,  -1.34497801e+00,  -5.90371795e-01,\n",
        "        -4.64748703e-01,  -1.27891138e+00,  -8.36089392e-01,\n",
        "        -3.00360603e-01,   4.42317156e-01,   2.67084454e-02,\n",
        "         8.17288539e-01,  -1.92625437e-01,   1.24029728e-01,\n",
        "        -9.71215631e-01,   2.36124364e-02,  -5.32762118e-01,\n",
        "        -2.93715599e-01,  -3.97902466e-01,   2.46870407e-01,\n",
        "        -8.85583686e-01,   3.00772046e-01,   1.32982231e-01,\n",
        "         3.41423690e-01,   1.07059598e+00,   7.49650012e-01,\n",
        "        -3.83307800e-01])"
       ]
      }
     ],
     "prompt_number": 100
>>>>>>> 5dd76770d90d39773df2ea144e8f41badd2660ef
    },
    {
     "cell_type": "code",
     "collapsed": false,
     "input": [
<<<<<<< HEAD
      "pl.ylim(0,1)\n",
      "pl.xlim(-8,8)"
=======
      "sig.size==time_vec.size"
>>>>>>> 5dd76770d90d39773df2ea144e8f41badd2660ef
     ],
     "language": "python",
     "metadata": {},
     "outputs": [
      {
       "metadata": {},
       "output_type": "pyout",
<<<<<<< HEAD
       "prompt_number": 154,
       "text": [
        "(-8, 8)"
       ]
      }
     ],
     "prompt_number": 154
=======
       "prompt_number": 101,
       "text": [
        "True"
       ]
      }
     ],
     "prompt_number": 101
>>>>>>> 5dd76770d90d39773df2ea144e8f41badd2660ef
    },
    {
     "cell_type": "code",
     "collapsed": false,
     "input": [
      "pl.close()"
     ],
     "language": "python",
     "metadata": {},
     "outputs": [],
<<<<<<< HEAD
     "prompt_number": 155
    },
    {
     "cell_type": "code",
     "collapsed": false,
     "input": [
      "a=np.array([1,2,3,4,5,6,7,8,9,10])"
     ],
     "language": "python",
     "metadata": {},
     "outputs": [],
     "prompt_number": 156
    },
    {
     "cell_type": "code",
     "collapsed": false,
     "input": [
      "stats.scoreatpercentile(a,12)"
     ],
     "language": "python",
     "metadata": {},
     "outputs": [
      {
       "metadata": {},
       "output_type": "pyout",
       "prompt_number": 161,
       "text": [
        "2.0800000000000001"
       ]
      }
     ],
     "prompt_number": 161
    },
    {
     "cell_type": "code",
     "collapsed": false,
     "input": [
      "%qtconsole"
     ],
     "language": "python",
     "metadata": {},
     "outputs": [],
     "prompt_number": 162
=======
     "prompt_number": 103
>>>>>>> 5dd76770d90d39773df2ea144e8f41badd2660ef
    },
    {
     "cell_type": "code",
     "collapsed": false,
     "input": [],
     "language": "python",
     "metadata": {},
     "outputs": []
    }
   ],
   "metadata": {}
  }
 ]
}
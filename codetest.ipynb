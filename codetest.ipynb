{
 "metadata": {
  "name": ""
 },
 "nbformat": 3,
 "nbformat_minor": 0,
 "worksheets": [
  {
   "cells": [
    {
     "cell_type": "code",
     "collapsed": false,
     "input": [
      "%reset"
     ],
     "language": "python",
     "metadata": {},
     "outputs": [
      {
       "name": "stdout",
       "output_type": "stream",
       "stream": "stdout",
       "text": [
        "Once deleted, variables cannot be recovered. Proceed (y/[n])? y\n"
       ]
      }
     ],
     "prompt_number": 1
    },
    {
     "cell_type": "code",
     "collapsed": false,
     "input": [
      "%pylab qt4"
     ],
     "language": "python",
     "metadata": {},
     "outputs": [
      {
       "output_type": "stream",
       "stream": "stdout",
       "text": [
        "Populating the interactive namespace from numpy and matplotlib\n"
       ]
      }
     ],
     "prompt_number": 7
    },
    {
     "cell_type": "heading",
     "level": 1,
     "metadata": {},
     "source": [
      "Test Notebook"
     ]
    },
    {
     "cell_type": "heading",
     "level": 2,
     "metadata": {},
     "source": [
      "Module Prepare"
     ]
    },
    {
     "cell_type": "code",
     "collapsed": false,
     "input": [
      "import  matplotlib.pyplot as plt\n",
      "import  numpy as np\n",
      "import  astropy.io.fits as pyfits\n",
      "import  pylab as pl"
     ],
     "language": "python",
     "metadata": {},
     "outputs": [],
     "prompt_number": 2
    },
    {
     "cell_type": "heading",
     "level": 2,
     "metadata": {},
     "source": [
      "Test Part"
     ]
    },
    {
     "cell_type": "code",
     "collapsed": false,
     "input": [
      "x=np.linspace(-np.pi,np.pi,256,endpoint=True)\n",
      "c,s=np.cos(x),np.sin(x)\n",
      "pl.figure(figsize=(8,6),dpi=80)\n",
      "pl.subplot(1,1,1)\n",
      "pl.plot(x,c,color='blue',linewidth=1.0,linestyle='-')\n",
      "pl.plot(x,s,color='red',linewidth=2.0,linestyle='--')\n",
      "pl.xlim(-4,4)\n",
      "pl.ylim(-1,1)\n",
      "pl.xticks(np.linspace(-4,4,9,endpoint=True))\n",
      "pl.yticks(np.linspace(-1,1,5,endpoint=True))\n"
     ],
     "language": "python",
     "metadata": {},
     "outputs": [
      {
       "metadata": {},
       "output_type": "pyout",
       "prompt_number": 12,
       "text": [
        "([<matplotlib.axis.YTick at 0x7fdc27708550>,\n",
        "  <matplotlib.axis.YTick at 0x7fdc277080d0>,\n",
        "  <matplotlib.axis.YTick at 0x7fdc276ef990>,\n",
        "  <matplotlib.axis.YTick at 0x7fdc276efed0>,\n",
        "  <matplotlib.axis.YTick at 0x7fdc276f5450>],\n",
        " <a list of 5 Text yticklabel objects>)"
       ]
      }
     ],
     "prompt_number": 12
    },
    {
     "cell_type": "code",
     "collapsed": false,
     "input": [
      "!gvim pylab~sample.py"
     ],
     "language": "python",
     "metadata": {},
     "outputs": [],
     "prompt_number": 11
    },
    {
     "cell_type": "code",
     "collapsed": false,
     "input": [],
     "language": "python",
     "metadata": {},
     "outputs": []
    }
   ],
   "metadata": {}
  }
 ]
}